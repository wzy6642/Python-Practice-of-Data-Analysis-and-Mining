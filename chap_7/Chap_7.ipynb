{
 "cells": [
  {
   "cell_type": "code",
   "execution_count": 2,
   "metadata": {},
   "outputs": [],
   "source": [
    "import pandas as pd\n",
    "datafile = 'data/air_data.csv'\n",
    "resultfile = 'result/explore.xls'\n",
    "data = pd.read_csv(datafile, encoding='utf-8')\n",
    "explore = data.describe(percentiles=[], include='all').T\n",
    "explore['null'] = len(data)-explore['count']\n",
    "explore = explore[['null', 'max', 'min']]\n",
    "explore.columns = [u'空值数', u'最大值', u'最小值']\n",
    "explore.to_excel(resultfile)"
   ]
  },
  {
   "cell_type": "code",
   "execution_count": 4,
   "metadata": {},
   "outputs": [
    {
     "name": "stderr",
     "output_type": "stream",
     "text": [
      "D:\\ProgramData\\Anaconda3\\lib\\site-packages\\pandas\\core\\computation\\expressions.py:180: UserWarning: evaluating in Python space because the '*' operator is not supported by numexpr for the bool dtype, use '&' instead\n",
      "  .format(op=op_str, alt_op=unsupported[op_str]))\n"
     ]
    }
   ],
   "source": [
    "cleanedfile = 'result/data_cleaned.csv'\n",
    "data = data[data['SUM_YR_1'].notnull()*data['SUM_YR_2'].notnull()]\n",
    "index1 = data['SUM_YR_1']!=0\n",
    "index2 = data['SUM_YR_2']!=0\n",
    "index3 = (data['SEG_KM_SUM']==0)&(data['avg_discount']==0)\n",
    "data = data[index1|index2|index3]\n",
    "data.to_csv(cleanedfile)"
   ]
  },
  {
   "cell_type": "code",
   "execution_count": 5,
   "metadata": {},
   "outputs": [],
   "source": [
    "datafile = 'data/zscoredata.xls'\n",
    "zscoredfile = 'result/zscoreddata.xls'\n",
    "data = pd.read_excel(datafile)\n",
    "data = (data-data.mean(axis=0))/(data.std(axis=0))\n",
    "data.columns = ['Z'+i for i in data.columns]\n",
    "data.to_excel(zscoredfile, index=False)"
   ]
  },
  {
   "cell_type": "code",
   "execution_count": 6,
   "metadata": {},
   "outputs": [
    {
     "data": {
      "text/plain": [
       "array([[ 1.1536783 , -0.3717188 , -0.09306209, -0.101762  , -0.13741168],\n",
       "       [-0.31407286,  1.67489517, -0.57356407, -0.5374551 , -0.14290715],\n",
       "       [ 0.48275724, -0.79945907,  2.48632693,  2.42554149,  0.28504137],\n",
       "       [-0.69834785, -0.40940536, -0.16658772, -0.1677252 , -0.22049706],\n",
       "       [ 0.1445603 , -0.05268162, -0.1367283 , -0.12245387,  2.55209575]])"
      ]
     },
     "execution_count": 6,
     "metadata": {},
     "output_type": "execute_result"
    }
   ],
   "source": [
    "from sklearn.cluster import KMeans\n",
    "k = 5\n",
    "kmodel = KMeans(n_clusters=k, n_jobs=4)\n",
    "kmodel.fit(data)\n",
    "kmodel.cluster_centers_"
   ]
  },
  {
   "cell_type": "code",
   "execution_count": 7,
   "metadata": {},
   "outputs": [
    {
     "data": {
      "text/plain": [
       "array([0, 0, 0, ..., 0, 0, 0])"
      ]
     },
     "execution_count": 7,
     "metadata": {},
     "output_type": "execute_result"
    }
   ],
   "source": [
    "kmodel.labels_"
   ]
  },
  {
   "cell_type": "code",
   "execution_count": null,
   "metadata": {},
   "outputs": [],
   "source": []
  }
 ],
 "metadata": {
  "kernelspec": {
   "display_name": "Python 3",
   "language": "python",
   "name": "python3"
  },
  "language_info": {
   "codemirror_mode": {
    "name": "ipython",
    "version": 3
   },
   "file_extension": ".py",
   "mimetype": "text/x-python",
   "name": "python",
   "nbconvert_exporter": "python",
   "pygments_lexer": "ipython3",
   "version": "3.6.4"
  }
 },
 "nbformat": 4,
 "nbformat_minor": 2
}
